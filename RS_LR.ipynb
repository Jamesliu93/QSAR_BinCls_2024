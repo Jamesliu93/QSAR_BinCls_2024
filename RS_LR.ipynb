{
 "cells": [
  {
   "cell_type": "code",
   "execution_count": null,
   "id": "7d9c11b9",
   "metadata": {},
   "outputs": [],
   "source": [
    "# === Basic libraries ===\n",
    "import numpy as np\n",
    "import pandas as pd\n",
    "import time\n",
    "\n",
    "# === Molecular descriptor calculation ===\n",
    "from rdkit import Chem\n",
    "from mordred import Calculator, descriptors\n",
    "\n",
    "# === Data preprocessing and visuals ===\n",
    "from sklearn import preprocessing as pp\n",
    "import seaborn as sns\n",
    "from sklearn.decomposition import PCA\n",
    "\n",
    "# === Model and metrics ===\n",
    "from sklearn.linear_model import LogisticRegression\n",
    "from sklearn import metrics as met\n",
    "from sklearn.model_selection import cross_val_predict"
   ]
  },
  {
   "cell_type": "code",
   "execution_count": null,
   "id": "44bb88f7",
   "metadata": {},
   "outputs": [],
   "source": [
    "# === Read in files with X,Y ===\n",
    "RS_XY = pd.read_csv('Documents/rsxy_v1.csv')\n",
    "clist = list(RS_XY['SMILES'])\n",
    "y = np.array(RS_XY['Sens'])\n",
    "y = np.reshape(y,(-1,1))\n",
    "X = np.zeros(shape=(len(clist),1826))\n",
    "\n",
    "# === Calculate descriptors ===\n",
    "calc = Calculator(descriptors)\n",
    "for i in range(len(clist)):\n",
    "    mol = Chem.MolFromSmiles(clist[i])\n",
    "    X[i,:] = calc(mol)\n",
    "sh1 = np.shape(X)\n",
    "print(f'Shape | raw: {sh1}')\n",
    "\n",
    "# === Filter data and scale ===\n",
    "X = X[:,~np.any(np.isnan(X), axis=0)]\n",
    "X = X[:, np.var(X, axis=0) != 0]\n",
    "scaler = pp.MinMaxScaler().fit(X)\n",
    "Xs = scaler.transform(X)\n",
    "sh2 = np.shape(Xs)\n",
    "print(f'Shape | filtered/scaled: {sh2}')"
   ]
  },
  {
   "cell_type": "code",
   "execution_count": null,
   "id": "6eac887f",
   "metadata": {},
   "outputs": [],
   "source": [
    "# === Heatmap of feature correlation ===\n",
    "Xs_pd = pd.DataFrame(Xs)\n",
    "sns.heatmap(Xs_pd.corr())"
   ]
  },
  {
   "cell_type": "code",
   "execution_count": null,
   "id": "deaff349",
   "metadata": {
    "scrolled": true
   },
   "outputs": [],
   "source": [
    "# === Conduct PCA and display updated heatmap ===\n",
    "pca = PCA(n_components=50,random_state=np.random.seed(0))\n",
    "pca.fit(Xs_pd)\n",
    "Xr = pca.transform(Xs_pd)\n",
    "Xr_pd = pd.DataFrame(Xr)\n",
    "sns.heatmap(Xr_pd.corr())"
   ]
  },
  {
   "cell_type": "code",
   "execution_count": null,
   "id": "62793e24",
   "metadata": {},
   "outputs": [],
   "source": [
    "# === Logistic Regression ===\n",
    "y = y.ravel()\n",
    "nseed = 100\n",
    "\n",
    "acc_tst = np.zeros(nseed)\n",
    "f1s_tst = np.zeros(nseed)\n",
    "roc_tst = np.zeros(nseed)\n",
    "\n",
    "t_sta = time.perf_counter()\n",
    "for i in range(nseed):\n",
    "    model = LogisticRegression(solver='liblinear',random_state=np.random.seed(i))\n",
    "    pred = cross_val_predict(model, Xr, y)\n",
    "    \n",
    "    acc_tst[i] = met.accuracy_score(y,pred)\n",
    "    f1s_tst[i] = met.f1_score(y,pred)\n",
    "    roc_tst[i] = met.roc_auc_score(y,pred)\n",
    "\n",
    "t_end = time.perf_counter()\n",
    "t_ela = t_end-t_sta\n",
    "\n",
    "m_acc_tst = np.mean(acc_tst)\n",
    "m_f1s_tst = np.mean(f1s_tst)\n",
    "m_roc_tst = np.mean(roc_tst)\n",
    "\n",
    "print(f'Testing Accuracy: {m_acc_tst}')\n",
    "print(f'Testing F1 Score: {m_f1s_tst}')\n",
    "print(f'Testing POC AUC: {m_roc_tst}')\n",
    "\n",
    "print(f'Elapsed Time: {t_ela}')"
   ]
  },
  {
   "cell_type": "code",
   "execution_count": null,
   "id": "8a7227d8",
   "metadata": {},
   "outputs": [],
   "source": [
    "# === Results Log | LIBLINEAR ===\n",
    "#\n",
    "# Data   | Test                  | Time (s)\n",
    "#        | acc   | f1s   | roc   |\n",
    "# -------------------------------\n",
    "# Raw    | 0.703 | 0.254 | 0.573 | 3\n",
    "# F/S    | 0.842 | 0.742 | 0.798 | 3\n",
    "# PCA100 | 0.842 | 0.742 | 0.798 | 1\n",
    "# PCA50  | 0.829 | 0.722 | 0.784 | 1\n",
    "# PCA25  | 0.835 | 0.740 | 0.798 | 1\n"
   ]
  },
  {
   "cell_type": "code",
   "execution_count": null,
   "id": "a5ca8c48",
   "metadata": {},
   "outputs": [],
   "source": []
  }
 ],
 "metadata": {
  "kernelspec": {
   "display_name": "Python 3 (ipykernel)",
   "language": "python",
   "name": "python3"
  },
  "language_info": {
   "codemirror_mode": {
    "name": "ipython",
    "version": 3
   },
   "file_extension": ".py",
   "mimetype": "text/x-python",
   "name": "python",
   "nbconvert_exporter": "python",
   "pygments_lexer": "ipython3",
   "version": "3.11.5"
  }
 },
 "nbformat": 4,
 "nbformat_minor": 5
}
