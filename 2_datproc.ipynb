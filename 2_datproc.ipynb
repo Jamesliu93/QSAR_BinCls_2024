{
 "cells": [
  {
   "cell_type": "code",
   "execution_count": null,
   "id": "ffa5ee2f-2212-4c02-ae0a-2e4418aa2079",
   "metadata": {},
   "outputs": [],
   "source": [
    "# === Data handling ===\n",
    "import pickle\n",
    "import numpy as np\n",
    "import pandas as pd\n",
    "\n",
    "# === Impute and scale ===\n",
    "from sklearn.impute import SimpleImputer\n",
    "from sklearn import preprocessing as pp\n",
    "\n",
    "# === Dimensionality reduction ===\n",
    "from sklearn.decomposition import PCA\n",
    "import seaborn as sns\n",
    "\n",
    "# === Explainable AI ===\n",
    "import shap\n",
    "from xgboost import DMatrix, train\n",
    "import matplotlib.pyplot as plt"
   ]
  },
  {
   "cell_type": "code",
   "execution_count": null,
   "id": "2470bbd1-39c4-4d61-a93c-21bc7acff815",
   "metadata": {},
   "outputs": [],
   "source": [
    "# === Set project ===\n",
    "proj = 'LSI'\n",
    "proj = 'RS'\n",
    "\n",
    "# === Read Xy ===\n",
    "X_pd = pd.read_csv('temp_out/'+proj+'_X.csv', index_col=0)\n",
    "X = X_pd.to_numpy()\n",
    "y = np.genfromtxt('temp_out/'+proj+'_y.csv', delimiter=',')"
   ]
  },
  {
   "cell_type": "code",
   "execution_count": null,
   "id": "189ab5e3-320d-4d4e-b9db-823d7424c4cf",
   "metadata": {},
   "outputs": [],
   "source": [
    "# === Impute missing values ===\n",
    "imp_med = SimpleImputer(missing_values=np.nan, strategy='median')\n",
    "Xi = imp_med.fit_transform(X)\n",
    "\n",
    "# === Filter data and scale ===\n",
    "Xs_pd = X_pd.dropna(axis=1)\n",
    "Xs_pd = Xs_pd.loc[:, Xs_pd.var()!=0]\n",
    "Xs = X[:,~np.any(np.isnan(X), axis=0)]\n",
    "Xs = Xs[:, np.var(Xs, axis=0) != 0]\n",
    "Xs = pp.MinMaxScaler().fit_transform(Xs)\n",
    "sh1 = np.shape(Xs)\n",
    "print(f'Shape | filtered/scaled: {sh1}')\n",
    "\n",
    "# === Scaling imputed features ===\n",
    "Xi = Xi[:,~np.any(np.isnan(Xi), axis=0)]\n",
    "Xi = Xi[:, np.var(Xi, axis=0) != 0]\n",
    "Xis = pp.MinMaxScaler().fit_transform(Xi)\n",
    "sh2 = np.shape(Xis)\n",
    "print(f'Shape | filtered/scaled: {sh2}')"
   ]
  },
  {
   "cell_type": "code",
   "execution_count": null,
   "id": "ab74d4ae-7299-462a-9b31-08e3280fad14",
   "metadata": {},
   "outputs": [],
   "source": [
    "# === Heatmap of feature correlation ===\n",
    "Xs_pd_hm = pd.DataFrame(Xs)\n",
    "hm1 = sns.heatmap(Xs_pd_hm.corr())\n",
    "hm1.figure.savefig('temp_out/'+proj+'_Xs.tiff',dpi=300,pil_kwargs={\"compression\": \"tiff_lzw\"})"
   ]
  },
  {
   "cell_type": "code",
   "execution_count": null,
   "id": "5c57f6fa-5eea-43da-95f3-17912fc7d684",
   "metadata": {},
   "outputs": [],
   "source": [
    "# === Imputed features ===\n",
    "Xis_pd = pd.DataFrame(Xis)\n",
    "hm1 = sns.heatmap(Xis_pd.corr())\n",
    "hm1.figure.savefig('temp_out/'+proj+'_Xis.tiff',dpi=300,pil_kwargs={\"compression\": \"tiff_lzw\"})"
   ]
  },
  {
   "cell_type": "code",
   "execution_count": null,
   "id": "5566ae07-6cf9-4442-8cf1-27350fcc4eaf",
   "metadata": {},
   "outputs": [],
   "source": [
    "# === Conduct PCA and display updated heatmap ===\n",
    "n_comp = min(100,np.shape(Xs_pd)[0])\n",
    "pca = PCA(n_components=n_comp,random_state=np.random.seed(0))\n",
    "Xsr = pca.fit_transform(Xs_pd)\n",
    "Xsr_pd = pd.DataFrame(Xsr)\n",
    "hm2 = sns.heatmap(Xsr_pd.corr())\n",
    "hm2.figure.savefig('temp_out/'+proj+'_Xsr.tiff',dpi=300,pil_kwargs={\"compression\": \"tiff_lzw\"})"
   ]
  },
  {
   "cell_type": "code",
   "execution_count": null,
   "id": "bc1ed220-c79d-4f53-b895-f209dddf2b52",
   "metadata": {},
   "outputs": [],
   "source": [
    "# === PCA for imputed features ===\n",
    "Xisr = pca.fit_transform(Xis_pd)\n",
    "Xisr_pd = pd.DataFrame(Xisr)\n",
    "hm2 = sns.heatmap(Xisr_pd.corr())\n",
    "hm2.figure.savefig('temp_out/'+proj+'_Xisr.tiff',dpi=300,pil_kwargs={\"compression\": \"tiff_lzw\"})"
   ]
  },
  {
   "cell_type": "code",
   "execution_count": null,
   "id": "f418d09f-6461-4ef6-b158-7b9ab2fef44e",
   "metadata": {},
   "outputs": [],
   "source": [
    "# === Dump variables into pickle file ===\n",
    "with open('temp_out/'+proj+'_vars.pkl','wb') as f:\n",
    "    pickle.dump([X, y, Xs, Xis, Xsr, Xisr, Xs_pd], f)"
   ]
  },
  {
   "cell_type": "code",
   "execution_count": null,
   "id": "833e4513-d71e-4fdd-a39f-4b7ed63a0aaa",
   "metadata": {},
   "outputs": [],
   "source": [
    "# === Explainable AI via SHAP ===\n",
    "shap.initjs()\n",
    "Xd = DMatrix(Xs_pd, label=y)\n",
    "shap_model = train({'eta':1, 'max_depth':3, 'base_score':0, 'lambda':0}, Xd, 1)\n",
    "shap_pred = shap_model.predict(Xd, output_margin=True)\n",
    "explainer = shap.TreeExplainer(shap_model)\n",
    "explanation = explainer(Xd)\n",
    "shap_values = explanation.values\n",
    "fnames = Xs_pd.columns.tolist()\n",
    "\n",
    "plt.figure()\n",
    "shap.summary_plot(shap_values, Xs_pd, feature_names=fnames, max_display=5, show=False)\n",
    "plt.savefig('temp_out/'+proj+'_shap_summary.tiff',dpi=300,pil_kwargs={\"compression\": \"tiff_lzw\"})\n",
    "plt.close()\n",
    "\n",
    "shap.force_plot(explainer.expected_value, shap_values, Xs_pd)"
   ]
  },
  {
   "cell_type": "code",
   "execution_count": null,
   "id": "81563165-1163-4649-a91e-a28c293cb2d1",
   "metadata": {},
   "outputs": [],
   "source": []
  },
  {
   "cell_type": "code",
   "execution_count": null,
   "id": "c8515de4-86e0-4bf5-a771-fdcbeb1cf28a",
   "metadata": {},
   "outputs": [],
   "source": []
  }
 ],
 "metadata": {
  "kernelspec": {
   "display_name": "Python 3 (ipykernel)",
   "language": "python",
   "name": "python3"
  },
  "language_info": {
   "codemirror_mode": {
    "name": "ipython",
    "version": 3
   },
   "file_extension": ".py",
   "mimetype": "text/x-python",
   "name": "python",
   "nbconvert_exporter": "python",
   "pygments_lexer": "ipython3",
   "version": "3.11.9"
  }
 },
 "nbformat": 4,
 "nbformat_minor": 5
}
