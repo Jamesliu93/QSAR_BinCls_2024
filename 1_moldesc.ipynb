{
 "cells": [
  {
   "cell_type": "code",
   "execution_count": null,
   "id": "b29907af",
   "metadata": {},
   "outputs": [],
   "source": [
    "import numpy as np\n",
    "import pandas as pd\n",
    "from rdkit import Chem\n",
    "from rdkit.Chem.SaltRemover import SaltRemover\n",
    "from mordred import Calculator, descriptors"
   ]
  },
  {
   "cell_type": "code",
   "execution_count": null,
   "id": "25af5201",
   "metadata": {},
   "outputs": [],
   "source": [
    "# === Set project ===\n",
    "proj = 'LSI'\n",
    "proj = 'RS'\n",
    "\n",
    "# === Read in files with X,y ===\n",
    "Xy = pd.read_csv(proj+'_dat.csv')\n",
    "clist = list(Xy['SMILES'])\n",
    "y = np.array(Xy['Label'])\n",
    "y = np.reshape(y,(-1,1))\n",
    "X = np.zeros(shape=(len(clist),1826))\n",
    "\n",
    "# === Calculate descriptors ===\n",
    "calc = Calculator(descriptors)\n",
    "dlist = list(calc._name_dict.keys())\n",
    "remover = SaltRemover()\n",
    "for i in range(len(clist)):\n",
    "    mol = Chem.MolFromSmiles(clist[i])\n",
    "    X[i,:] = calc(mol)\n",
    "sh = np.shape(X)\n",
    "print(f'Shape | raw: {sh}')"
   ]
  },
  {
   "cell_type": "code",
   "execution_count": null,
   "id": "b37d6d86",
   "metadata": {},
   "outputs": [],
   "source": [
    "# === Write to file ===\n",
    "X_pd = pd.DataFrame(X, columns=dlist)\n",
    "X_pd.to_csv('temp_out/'+proj+'_X.csv', header=True)\n",
    "np.savetxt('temp_out/'+proj+'_y.csv', y, delimiter=',')"
   ]
  },
  {
   "cell_type": "code",
   "execution_count": null,
   "id": "272d1931",
   "metadata": {},
   "outputs": [],
   "source": []
  }
 ],
 "metadata": {
  "kernelspec": {
   "display_name": "Python 3 (ipykernel)",
   "language": "python",
   "name": "python3"
  },
  "language_info": {
   "codemirror_mode": {
    "name": "ipython",
    "version": 3
   },
   "file_extension": ".py",
   "mimetype": "text/x-python",
   "name": "python",
   "nbconvert_exporter": "python",
   "pygments_lexer": "ipython3",
   "version": "3.11.5"
  }
 },
 "nbformat": 4,
 "nbformat_minor": 5
}
